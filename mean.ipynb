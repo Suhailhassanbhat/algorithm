{
 "cells": [
  {
   "cell_type": "code",
   "execution_count": 5,
   "metadata": {},
   "outputs": [
    {
     "name": "stdout",
     "output_type": "stream",
     "text": [
      "mean of the numbers is 56.05\n"
     ]
    }
   ],
   "source": [
    "import pandas as pd\n",
    "data = pd.read_csv(\"data.csv\")\n",
    "series = data.T\n",
    "series = series.reset_index()\n",
    "series = series.astype(float)\n",
    "series = series.rename(columns ={\"index\":\"numbers\"})\n",
    "\n",
    "def mean():\n",
    "    total = 0\n",
    "    count = 0\n",
    "    for number in series.numbers:\n",
    "        total = total + number\n",
    "        count = count + 1\n",
    "    print(\"mean of the numbers is\", round(total/count, 2))\n",
    "mean()"
   ]
  },
  {
   "cell_type": "code",
   "execution_count": null,
   "metadata": {},
   "outputs": [],
   "source": []
  }
 ],
 "metadata": {
  "kernelspec": {
   "display_name": "Python 3 (version 3.8)",
   "language": "python",
   "name": "python3"
  },
  "language_info": {
   "codemirror_mode": {
    "name": "ipython",
    "version": 3
   },
   "file_extension": ".py",
   "mimetype": "text/x-python",
   "name": "python",
   "nbconvert_exporter": "python",
   "pygments_lexer": "ipython3",
   "version": "3.8.0"
  }
 },
 "nbformat": 4,
 "nbformat_minor": 2
}
